{
 "cells": [
  {
   "cell_type": "code",
   "execution_count": 3,
   "metadata": {
    "collapsed": false
   },
   "outputs": [],
   "source": [
    "from bs4 import BeautifulSoup\n",
    "import requests\n",
    "import tweepy"
   ]
  },
  {
   "cell_type": "code",
   "execution_count": 4,
   "metadata": {
    "collapsed": false
   },
   "outputs": [],
   "source": [
    "def fetch_price(symbol):\n",
    "    base = \"https://www.google.com/finance?q=\"\n",
    "    r = requests.get(base + symbol)\n",
    "    soup = BeautifulSoup(r.text, \"html.parser\")\n",
    "    return soup.select('span')"
   ]
  },
  {
   "cell_type": "code",
   "execution_count": null,
   "metadata": {
    "collapsed": false
   },
   "outputs": [],
   "source": [
    "fetch_price(\"GOOG\")"
   ]
  },
  {
   "cell_type": "code",
   "execution_count": 7,
   "metadata": {
    "collapsed": false
   },
   "outputs": [
    {
     "name": "stdout",
     "output_type": "stream",
     "text": [
      "{\"created_at\": \"Thu Feb 23 21:36:39 +0000 2012\", \"description\": \"Use my arrogance as the steam to power my dreams\", \"favourites_count\": 1185, \"followers_count\": 73, \"friends_count\": 85, \"id\": 501170770, \"lang\": \"en\", \"name\": \"Billy Wagner\", \"profile_background_color\": \"131516\", \"profile_background_image_url\": \"http://abs.twimg.com/images/themes/theme14/bg.gif\", \"profile_background_tile\": true, \"profile_banner_url\": \"https://pbs.twimg.com/profile_banners/501170770/1452888835\", \"profile_image_url\": \"http://pbs.twimg.com/profile_images/497614351973744640/s7A9zON9_normal.jpeg\", \"profile_link_color\": \"009999\", \"profile_sidebar_fill_color\": \"EFEFEF\", \"profile_text_color\": \"333333\", \"protected\": true, \"screen_name\": \"6ub\", \"status\": {\"created_at\": \"Mon Jun 13 20:56:27 +0000 2016\", \"favorite_count\": 1, \"hashtags\": [], \"id\": 742460647259049984, \"id_str\": \"742460647259049984\", \"in_reply_to_screen_name\": \"southern_mayers\", \"in_reply_to_status_id\": 742364644044615681, \"in_reply_to_user_id\": 3132216783, \"lang\": \"und\", \"source\": \"<a href=\\\"http://twitter.com\\\" rel=\\\"nofollow\\\">Twitter Web Client</a>\", \"text\": \"@southern_mayers @NotMittleman\", \"urls\": [], \"user_mentions\": [{\"id\": 3132216783, \"name\": \"Jennifer Mayers\", \"screen_name\": \"southern_mayers\"}, {\"id\": 2434360981, \"name\": \"Mittleman\", \"screen_name\": \"NotMittleman\"}]}, \"statuses_count\": 168, \"time_zone\": \"Eastern Time (US & Canada)\", \"utc_offset\": -14400}\n"
     ]
    }
   ],
   "source": [
    "api = twitter.Api(consumer_key=\"ifObG4JKLJCxTX0GLpxvtuaY6\",\n",
    "                 consumer_secret=\"uTWfAWryq9htlYbLtmzEcEswotAWbiOMUt5nNI7Mw5uNozVaar\",\n",
    "                 access_token_key='501170770-CikbROquei2Stv8vpcDVXVUiY5FBrOalHZ5gX39S',\n",
    "                 access_token_secret='jCHk05hoI561BLACArcSIyezjxAAuVp2G1YLNS14PUCNL')\n",
    "print(api.VerifyCredentials())"
   ]
  },
  {
   "cell_type": "code",
   "execution_count": 13,
   "metadata": {
    "collapsed": false
   },
   "outputs": [
    {
     "ename": "SyntaxError",
     "evalue": "invalid syntax (<ipython-input-13-cf1f662b9ded>, line 1)",
     "output_type": "error",
     "traceback": [
      "\u001b[1;36m  File \u001b[1;32m\"<ipython-input-13-cf1f662b9ded>\"\u001b[1;36m, line \u001b[1;32m1\u001b[0m\n\u001b[1;33m    pydoc twitter.[Trend]\u001b[0m\n\u001b[1;37m                ^\u001b[0m\n\u001b[1;31mSyntaxError\u001b[0m\u001b[1;31m:\u001b[0m invalid syntax\n"
     ]
    }
   ],
   "source": [
    "pydoc twitter.[Trend]"
   ]
  }
 ],
 "metadata": {
  "anaconda-cloud": {},
  "kernelspec": {
   "display_name": "Python [py3k]",
   "language": "python",
   "name": "Python [py3k]"
  },
  "language_info": {
   "codemirror_mode": {
    "name": "ipython",
    "version": 3
   },
   "file_extension": ".py",
   "mimetype": "text/x-python",
   "name": "python",
   "nbconvert_exporter": "python",
   "pygments_lexer": "ipython3",
   "version": "3.5.2"
  }
 },
 "nbformat": 4,
 "nbformat_minor": 0
}
