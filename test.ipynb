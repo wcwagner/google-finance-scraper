{
 "cells": [
  {
   "cell_type": "code",
   "execution_count": 5,
   "metadata": {
    "collapsed": false
   },
   "outputs": [],
   "source": [
    "from bs4 import BeautifulSoup\n",
    "import requests\n",
    "import tweepy"
   ]
  },
  {
   "cell_type": "code",
   "execution_count": 2,
   "metadata": {
    "collapsed": false
   },
   "outputs": [],
   "source": []
  },
  {
   "cell_type": "code",
   "execution_count": 3,
   "metadata": {
    "collapsed": false
   },
   "outputs": [
    {
     "data": {
      "text/plain": [
       "[<span class=\"gbi\" id=\"gbn\"></span>,\n",
       " <span class=\"gbf\" id=\"gbf\"></span>,\n",
       " <span id=\"gbe\"></span>,\n",
       " <span class=\"fjfe-searchbox-button-wrapper\"><span class=\"fjfe-searchbox-button-wrapper2\"><input class=\"fjfe-searchbox-button\" tabindex=\"2\" type=\"submit\" value=\"Get quotes\"/></span></span>,\n",
       " <span class=\"fjfe-searchbox-button-wrapper2\"><input class=\"fjfe-searchbox-button\" tabindex=\"2\" type=\"submit\" value=\"Get quotes\"/></span>,\n",
       " <span class=\"fjfe-recentquotes-duration\">(<a href=\"//www.google.com/history/optout?hl=en\">30 days</a>)</span>,\n",
       " <span class=\"fjfe-chg-toggle\">chg</span>,\n",
       " <span class=\"fjfe-perc-toggle\">%</span>,\n",
       " <span class=\"pr\">\n",
       " <span id=\"ref_304466804484872_l\">769.31</span>\n",
       " </span>,\n",
       " <span id=\"ref_304466804484872_l\">769.31</span>,\n",
       " <span class=\"ch bld\"><span class=\"chg\" id=\"ref_304466804484872_c\">+2.26</span>\n",
       " <span class=\"chg\" id=\"ref_304466804484872_cp\">(0.29%)</span>\n",
       " </span>,\n",
       " <span class=\"chg\" id=\"ref_304466804484872_c\">+2.26</span>,\n",
       " <span class=\"chg\" id=\"ref_304466804484872_cp\">(0.29%)</span>,\n",
       " <span class=\"nwp\">\n",
       " Real-time:\n",
       "  \n",
       " <span id=\"ref_304466804484872_ltt\">\n",
       " 2:19PM EDT\n",
       " </span>\n",
       " </span>,\n",
       " <span id=\"ref_304466804484872_ltt\">\n",
       " 2:19PM EDT\n",
       " </span>,\n",
       " <span class=\"dis-large\"><nobr>NASDAQ\n",
       " real-time data -\n",
       " <a class=\"dis-large\" href=\"//www.google.com/help/stock_disclaimer.html#realtime\">Disclaimer</a>\n",
       " </nobr></span>,\n",
       " <span class=\"settings-link\">Settings</span>,\n",
       " <span class=\"technicals-link\">Technicals</span>,\n",
       " <span style=\"white-space:nowrap;\">\n",
       " <img alt=\"Link to chart icon.\" class=\"linktochart-img SP_link\" hight=\"9\" src=\"/finance/s/m4C5KaofCbA/images/cleardot.gif\" width=\"16\"/>\n",
       " <span class=\"linktochart-link\">\n",
       " Link to this view</span>\n",
       " </span>,\n",
       " <span class=\"linktochart-link\">\n",
       " Link to this view</span>,\n",
       " <span class=\"chart-dis\">Volume delayed by 15 mins.<br>Prices are not from all markets.<br>Sources include SIX.<br>\n",
       " </br></br></br></span>,\n",
       " <span class=\"id-related-edit-col linkbtn\">Add or remove columns</span>]"
      ]
     },
     "execution_count": 3,
     "metadata": {},
     "output_type": "execute_result"
    }
   ],
   "source": []
  },
  {
   "cell_type": "code",
   "execution_count": 8,
   "metadata": {
    "collapsed": false
   },
   "outputs": [],
   "source": [
    "import tweepy\n",
    "from tweepy import OAuthHandler\n",
    "\n",
    "consumer_key=\"ifObG4JKLJCxTX0GLpxvtuaY6\"\n",
    "consumer_secret=\"uTWfAWryq9htlYbLtmzEcEswotAWbiOMUt5nNI7Mw5uNozVaar\"\n",
    "access_token_key=\"501170770-CikbROquei2Stv8vpcDVXVUiY5FBrOalHZ5gX39S\"\n",
    "access_token_secret=\"jCHk05hoI561BLACArcSIyezjxAAuVp2G1YLNS14PUCNL\""
   ]
  },
  {
   "cell_type": "code",
   "execution_count": 10,
   "metadata": {
    "collapsed": false
   },
   "outputs": [],
   "source": [
    "auth = OAuthHandler(consumer_key, consumer_secret)\n",
    "auth.set_access_token(access_token_key, access_token_secret)\n",
    " \n",
    "api = tweepy.API(auth)"
   ]
  },
  {
   "cell_type": "code",
   "execution_count": 12,
   "metadata": {
    "collapsed": false
   },
   "outputs": [
    {
     "name": "stdout",
     "output_type": "stream",
     "text": [
      "RT @GordosTally: Noles don't back down to hurricanes, we embrace them with $8 smashes https://t.co/L46OBDDRf3\n",
      "Not a fan of the bulk of this storm hitting overnight. Prob won't sleep very much.\n",
      "PSA: Gainesville Walmart is a war zone right now\n",
      "Cut that ass, boy https://t.co/Ov8x5B2qUG\n",
      "only having class three days a week 10/10 would recommend\n",
      "when ur overwhelmed by life &amp; then a \"hurricane\" brings a 5 day weekend ur way :,) life's good\n",
      "This moment is literally \"The calm before the storm\".\n",
      "RT @abbstiek: Is Tallahassee even real https://t.co/f4eNCqGW74\n",
      "RT @AlbertGator: Stay safe Gators! https://t.co/jbQ84aw3Sg\n",
      "UF just cancelled classes, time to get drunk\n"
     ]
    }
   ],
   "source": [
    "for status in tweepy.Cursor(api.home_timeline).items(10):\n",
    "    # Process a single status\n",
    "    print(status.text) "
   ]
  }
 ],
 "metadata": {
  "anaconda-cloud": {},
  "kernelspec": {
   "display_name": "Python [Root]",
   "language": "python",
   "name": "Python [Root]"
  },
  "language_info": {
   "codemirror_mode": {
    "name": "ipython",
    "version": 3
   },
   "file_extension": ".py",
   "mimetype": "text/x-python",
   "name": "python",
   "nbconvert_exporter": "python",
   "pygments_lexer": "ipython3",
   "version": "3.5.2"
  }
 },
 "nbformat": 4,
 "nbformat_minor": 0
}
